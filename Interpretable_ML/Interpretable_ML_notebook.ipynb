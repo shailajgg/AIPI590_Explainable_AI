{
 "cells": [
  {
   "cell_type": "markdown",
   "metadata": {},
   "source": [
    "# AIPI 590 - xAI\n",
    "\n",
    "## Interpretable Machine Learning\n",
    "\n",
    "### Shaila Güereca\n",
    "\n",
    "# Telco Customer Churn Analysis  \n",
    "\n",
    "This repository contains the code and analysis for understanding and predicting customer churn using a dataset from a telecommunications company. The dataset can be found [here](https://www.kaggle.com/datasets/blastchar/telco-customer-churn/code). The goal is to identify factors contributing to churn and build interpretable models to predict customers at risk of leaving the company.  \n",
    "\n",
    "## Instructions  \n",
    "\n",
    "This project involves the following tasks:  \n",
    "\n",
    "### 1. **Exploratory Data Analysis (EDA) to Check Assumptions**  \n",
    "- Perform exploratory analysis of the dataset to examine relationships between features and the target variable (churn).  \n",
    "- Use appropriate visualizations and statistical methods to assess whether assumptions for linear regression, logistic regression, and Generalized Additive Models (GAM) are met.  \n",
    "\n",
    "### 2. **Linear Regression**  \n",
    "- Treat the churn variable as a continuous variable (e.g., 0 for staying, 1 for churning).  \n",
    "- Build a linear regression model to predict churn.  \n",
    "- Interpret the coefficients and evaluate the model's performance.  \n",
    "\n",
    "### 3. **Logistic Regression**  \n",
    "- Treat churn as a binary variable.  \n",
    "- Build a logistic regression model to predict the probability of churn.  \n",
    "- Interpret the coefficients.  \n",
    "\n",
    "### 4. **Generalized Additive Model (GAM)**  \n",
    "- Build a GAM to model non-linear relationships between customer features and churn.  \n",
    "- Interpret the results of the GAM model.  \n",
    "\n",
    "### 5. **Model Comparison**  \n",
    "- Compare the performance and interpretability of the linear regression, logistic regression, and GAM models.  \n",
    "- Discuss the strengths and weaknesses of each approach.  \n",
    "- Provide recommendations on which model(s) the telecommunications company should use to address their customer churn problem.  \n",
    "\n"
   ]
  },
  {
   "cell_type": "code",
   "execution_count": 3,
   "metadata": {},
   "outputs": [],
   "source": [
    "# Loading the required libraries\n",
    "import os\n",
    "import pandas as pd\n",
    "import numpy as np"
   ]
  },
  {
   "cell_type": "code",
   "execution_count": null,
   "metadata": {},
   "outputs": [],
   "source": [
    "# Importing the dataset\n",
    "\n",
    "# Download latest version\n",
    "path = kagglehub.dataset_download(\"blastchar/telco-customer-churn\")\n",
    "\n",
    "print(\"Path to dataset files:\", path)"
   ]
  }
 ],
 "metadata": {
  "kernelspec": {
   "display_name": "base",
   "language": "python",
   "name": "python3"
  },
  "language_info": {
   "codemirror_mode": {
    "name": "ipython",
    "version": 3
   },
   "file_extension": ".py",
   "mimetype": "text/x-python",
   "name": "python",
   "nbconvert_exporter": "python",
   "pygments_lexer": "ipython3",
   "version": "3.11.5"
  }
 },
 "nbformat": 4,
 "nbformat_minor": 2
}
